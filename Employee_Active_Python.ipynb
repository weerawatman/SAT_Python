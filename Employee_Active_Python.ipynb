{
 "cells": [
  {
   "cell_type": "markdown",
   "id": "7de11c5c",
   "metadata": {},
   "source": [
    "นำเข้าไฟล์ Master ของ รายงาน Employee XLS.xlsx"
   ]
  },
  {
   "cell_type": "code",
   "execution_count": null,
   "id": "16c92697",
   "metadata": {},
   "outputs": [],
   "source": [
    "import pandas as pd\n",
    "\n",
    "# ระบุตำแหน่งและชื่อไฟล์ Excel ของคุณ\n",
    "# ใช้ r\"...\" (raw string) เพื่อป้องกันปัญหาจากเครื่องหมาย \\ ใน path ของ Windows\n",
    "file_path = r\"C:\\SBG_Working Folder\\Special Project&Activity\\Data Analysis\\Master File Maintenance\\รายงาน Employee XLS.xlsx\"\n",
    "\n",
    "try:\n",
    "    # อ่านข้อมูลจากไฟล์ Excel ทั้งหมด (จะอ่าน Sheet แรกโดยอัตโนมัติ)\n",
    "    df = pd.read_excel(file_path)\n",
    "\n",
    "    # แสดง 5 แถวแรกของข้อมูลเพื่อตรวจสอบ\n",
    "    print(\"อ่านข้อมูลจาก Excel สำเร็จ! นี่คือ 5 แถวแรก:\")\n",
    "    print(df.head())\n",
    "\n",
    "    # --- คุณสามารถนำ DataFrame (df) ไปใช้งานต่อได้ตามต้องการ ---\n",
    "    # ตัวอย่าง:\n",
    "    # แสดงข้อมูลทั้งหมด\n",
    "    # print(df)\n",
    "\n",
    "    # แสดงชื่อคอลัมน์ทั้งหมด\n",
    "    # print(\"ชื่อคอลัมน์:\", df.columns)\n",
    "\n",
    "    # แสดงจำนวนแถวและคอลัมน์\n",
    "    # print(\"ขนาดข้อมูล (แถว, คอลัมน์):\", df.shape)\n",
    "\n",
    "except FileNotFoundError:\n",
    "    print(f\"ผิดพลาด: ไม่พบไฟล์ที่ตำแหน่ง: {file_path}\")\n",
    "    print(\"กรุณาตรวจสอบว่าใส่ตำแหน่งไฟล์ถูกต้อง และไฟล์นั้นมีอยู่จริง\")\n",
    "except Exception as e:\n",
    "    print(f\"เกิดข้อผิดพลาดอื่นๆ ขึ้น: {e}\")"
   ]
  }
 ],
 "metadata": {
  "kernelspec": {
   "display_name": "Python 3.11 (venv311)",
   "language": "python",
   "name": "venv311"
  },
  "language_info": {
   "codemirror_mode": {
    "name": "ipython",
    "version": 3
   },
   "file_extension": ".py",
   "mimetype": "text/x-python",
   "name": "python",
   "nbconvert_exporter": "python",
   "pygments_lexer": "ipython3",
   "version": "3.11.8"
  }
 },
 "nbformat": 4,
 "nbformat_minor": 5
}
