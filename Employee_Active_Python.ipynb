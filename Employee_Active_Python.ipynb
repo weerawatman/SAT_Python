{
 "cells": [
  {
   "cell_type": "markdown",
   "id": "7de11c5c",
   "metadata": {},
   "source": [
    "ทดสอบการติดตั้ง python และ run"
   ]
  },
  {
   "cell_type": "code",
   "execution_count": 1,
   "id": "16c92697",
   "metadata": {},
   "outputs": [
    {
     "name": "stdout",
     "output_type": "stream",
     "text": [
      "['Hello']\n"
     ]
    }
   ],
   "source": [
    "print(['Hello'])"
   ]
  }
 ],
 "metadata": {
  "kernelspec": {
   "display_name": "Python 3.11 (venv311)",
   "language": "python",
   "name": "venv311"
  },
  "language_info": {
   "codemirror_mode": {
    "name": "ipython",
    "version": 3
   },
   "file_extension": ".py",
   "mimetype": "text/x-python",
   "name": "python",
   "nbconvert_exporter": "python",
   "pygments_lexer": "ipython3",
   "version": "3.11.8"
  }
 },
 "nbformat": 4,
 "nbformat_minor": 5
}
